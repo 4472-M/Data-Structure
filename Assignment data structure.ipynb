{
 "cells": [
  {
   "cell_type": "markdown",
   "id": "229f5a5c-41dc-4791-9cf5-3083ed547aec",
   "metadata": {},
   "source": [
    " 1.Discuss string slicing and provide example "
   ]
  },
  {
   "cell_type": "raw",
   "id": "8efcacd6-8201-4a57-b03d-1ccf15cc4dc5",
   "metadata": {},
   "source": [
    "ANSWER-- \n",
    "Slicing means extracting a part from something, and slicing a string means extracting some part from a string.\n",
    "This extracted part is also referred to as a sub-string. In short, string slicing in Python is obtaining a substring \n",
    "from a larger string by slicing it based on specific criteria. \n",
    "String slicing allows us to obtain a specific range of characters from a string based on their respective indices.\n",
    "String slicing in Python allows you to extract a portion of a string by specifying a start and end index. It follows the format string[start:end], where start is the index where slicing begins (inclusive) and end is the index where it ends (exclusive)."
   ]
  },
  {
   "cell_type": "raw",
   "id": "8dac4a1a-dd80-4991-b13d-406e66d95ad2",
   "metadata": {},
   "source": [
    "Why USED Python String Slicing--\n",
    "Subsetting Data: It makes it simple to access and manipulate substrings inside a bigger text since it enables you \n",
    "                 to extract specific chunks of a string\n",
    "Data Extraction: It makes the process of sifting through strings to find relevant information and extracting it,\n",
    "                 which is essential for tasks like data cleaning and analysis, simpler\n",
    "String Manipulation: Slicing makes it easier to manipulate strings in a variety of ways, including reversing strings and \n",
    "                     extracting words or characters for additional use\n",
    "Efficient Access: Slicing offers direct access to a segment rather than iterating through a string character by character,\n",
    "                  which may be more effective for some jobs\n",
    "Substring Creation: It permits the creation of substrings for activities like producing distinctive IDs, decoding file paths, \n",
    "                    or producing outputs with specific formatting"
   ]
  },
  {
   "cell_type": "raw",
   "id": "3f33a89d-135f-4ec8-a6b2-ea739a2df532",
   "metadata": {},
   "source": [
    "Methods of String Slicing"
   ]
  },
  {
   "cell_type": "raw",
   "id": "1de0c497-35e2-462f-9ccd-875033f1b670",
   "metadata": {},
   "source": [
    "1. Slice() Method\n",
    "2. List Slicing / Array Slicing"
   ]
  },
  {
   "cell_type": "raw",
   "id": "e010fb95-f819-4753-b4d6-4b01fac41cae",
   "metadata": {},
   "source": [
    "1. The slice() method returns an object containing the range of string slicing. The parameter includes a set \n",
    "   of range of values defined as (start, stop, step). "
   ]
  },
  {
   "cell_type": "code",
   "execution_count": 1,
   "id": "8ccfa1f3-811f-4f00-b6c3-cd1d48fd9c31",
   "metadata": {},
   "outputs": [
    {
     "name": "stdout",
     "output_type": "stream",
     "text": [
      "Coding\n"
     ]
    }
   ],
   "source": [
    "#FOR EXAMPLE OF SLICE METHOD\n",
    "string = 'Coding Ninjas'\n",
    "print(string[slice(6)])"
   ]
  },
  {
   "cell_type": "code",
   "execution_count": 3,
   "id": "6e344377-abd3-44e4-a961-1dc5c3faf959",
   "metadata": {},
   "outputs": [
    {
     "name": "stdout",
     "output_type": "stream",
     "text": [
      "sl \n"
     ]
    }
   ],
   "source": [
    "string = 'pwskills Mahesh'\n",
    "print(string[slice(2,10,3)])"
   ]
  },
  {
   "cell_type": "code",
   "execution_count": 6,
   "id": "2d29692d-29d0-4d1d-bfdd-854d3c755f15",
   "metadata": {},
   "outputs": [
    {
     "data": {
      "text/plain": [
       "'I am'"
      ]
     },
     "execution_count": 6,
     "metadata": {},
     "output_type": "execute_result"
    }
   ],
   "source": [
    "string1 = \"I am a good student\"\n",
    "string1[0:4] "
   ]
  },
  {
   "cell_type": "raw",
   "id": "7ebdee1f-30d9-4ae8-a799-c15616d795af",
   "metadata": {},
   "source": [
    "2. List Slicing / Array Slicing\n",
    "The List Slicing method is the most common way of string slicing in Python. The parameter includes a set of range of values \n",
    "defined as [start, stop, step]."
   ]
  },
  {
   "cell_type": "code",
   "execution_count": 2,
   "id": "9c5f4ae7-0ba9-4251-973c-72f6b85cc0e8",
   "metadata": {},
   "outputs": [
    {
     "name": "stdout",
     "output_type": "stream",
     "text": [
      "Ninja\n"
     ]
    }
   ],
   "source": [
    "#FOR EXAMPLE OF List Slicing / Array Slicing METHOD\n",
    "string = 'Coding Ninjas'\n",
    "print(string[7:12])"
   ]
  },
  {
   "cell_type": "code",
   "execution_count": 5,
   "id": "f6200ca1-6765-4d6e-9a2a-e846633eb069",
   "metadata": {},
   "outputs": [
    {
     "name": "stdout",
     "output_type": "stream",
     "text": [
      "wklmci\n"
     ]
    }
   ],
   "source": [
    "string = 'pwskil machin'\n",
    "print(string[1:12:2])"
   ]
  },
  {
   "cell_type": "code",
   "execution_count": 7,
   "id": "7fe4d972-9986-4732-a9da-f1c2709a5d66",
   "metadata": {},
   "outputs": [
    {
     "data": {
      "text/plain": [
       "'hlo'"
      ]
     },
     "execution_count": 7,
     "metadata": {},
     "output_type": "execute_result"
    }
   ],
   "source": [
    "string2 = \"hello world\"\n",
    "string2[0:5:2]"
   ]
  },
  {
   "cell_type": "markdown",
   "id": "61023bb9-5d30-404a-adb2-8daff554a7f2",
   "metadata": {},
   "source": [
    "2. Explain the key features of lists in Python ?"
   ]
  },
  {
   "cell_type": "raw",
   "id": "037e204c-7529-457b-a533-c1439dc9cd59",
   "metadata": {},
   "source": [
    "ANSWER-- \n",
    "\n",
    "Features of list\n",
    "-Lists can contain items of different types at the same time (including integers, floating point numbers, strings and boolean values).\n",
    "-Lists are mutable and dynamic; list items can be added, removed or changed after the list is defined.\n",
    "-Lists are ordered; newly added items will be placed at the end of the list.\n",
    "-Lists use zero-based indexing; every list item has an associated index, and the first item’s index is 0.\n",
    "-Duplicated list items are allowed.\n",
    "-Lists can be nested within other lists indefinitely."
   ]
  },
  {
   "cell_type": "raw",
   "id": "b77e5cf5-830a-47b1-aa80-d35bde6be666",
   "metadata": {},
   "source": [
    "for example "
   ]
  },
  {
   "cell_type": "code",
   "execution_count": 1,
   "id": "b5f4f02e-e88c-4740-9934-71da131a9db1",
   "metadata": {},
   "outputs": [
    {
     "data": {
      "text/plain": [
       "list"
      ]
     },
     "execution_count": 1,
     "metadata": {},
     "output_type": "execute_result"
    }
   ],
   "source": [
    "grocer_list = [\"milk\",\"orange\",1,2,2.2, True]\n",
    "type(grocer_list)"
   ]
  },
  {
   "cell_type": "code",
   "execution_count": 2,
   "id": "7def80ac-3f33-4c19-9256-cc4ffe611013",
   "metadata": {},
   "outputs": [
    {
     "data": {
      "text/plain": [
       "'index'"
      ]
     },
     "execution_count": 2,
     "metadata": {},
     "output_type": "execute_result"
    }
   ],
   "source": [
    "pages = [\"titlepage\", \"chap1\", \"chap2\",\"conclusion\",\"index\"]\n",
    "pages[-1]"
   ]
  },
  {
   "cell_type": "markdown",
   "id": "6e5dff61-aef6-4152-92c7-faad3c3b71bb",
   "metadata": {},
   "source": [
    "3. Describe how to access, modify, and delete elements in a list with example"
   ]
  },
  {
   "cell_type": "raw",
   "id": "3c5ea479-ff18-4367-b24c-51158573fdb7",
   "metadata": {},
   "source": [
    "ANSWER-- \n",
    "-- Accessing Values in List\n",
    "There are various ways through which we can access the items present inside the list in Python.\n",
    "\n",
    "With the help of the index, we can access the elements of the list. Index starts from 0 and the index should always be an Integer. \n",
    "If we use an index other than integer like float, then it will result in TypeError."
   ]
  },
  {
   "cell_type": "code",
   "execution_count": 7,
   "id": "0c130a06-3d29-45bf-9903-975ea18471cb",
   "metadata": {},
   "outputs": [
    {
     "name": "stdout",
     "output_type": "stream",
     "text": [
      "3\n"
     ]
    }
   ],
   "source": [
    "# Define a list\n",
    "z = [3, 7, 4, 2]\n",
    "# Access the first item of a list at index 0\n",
    "print(z[0])"
   ]
  },
  {
   "cell_type": "code",
   "execution_count": 8,
   "id": "fb0fa1d7-cd11-4d92-9758-2d9f0d1da94d",
   "metadata": {},
   "outputs": [
    {
     "name": "stdout",
     "output_type": "stream",
     "text": [
      "0\n"
     ]
    }
   ],
   "source": [
    "#modify --  \n",
    "# Define a list\n",
    "z = [4, 1, 5, 4, 10, 4]\n",
    "print(z.index(4))  # The index method returns the first index at which a value occurs. In the code below, it will return 0"
   ]
  },
  {
   "cell_type": "code",
   "execution_count": 9,
   "id": "999e1de9-f9f5-489d-a0b3-4e65efa80676",
   "metadata": {},
   "outputs": [
    {
     "name": "stdout",
     "output_type": "stream",
     "text": [
      "3\n"
     ]
    }
   ],
   "source": [
    "#You can also specify where you want to start your search.\n",
    "print(z.index(4, 3))"
   ]
  },
  {
   "cell_type": "code",
   "execution_count": 12,
   "id": "1d1f7d0a-ce0f-4e34-ac65-115df8eda96a",
   "metadata": {},
   "outputs": [
    {
     "data": {
      "text/plain": [
       "['Apple', 'orange']"
      ]
     },
     "execution_count": 12,
     "metadata": {},
     "output_type": "execute_result"
    }
   ],
   "source": [
    "lis = [\"Apple\", \"orange\"]\n",
    "lis"
   ]
  },
  {
   "cell_type": "code",
   "execution_count": 13,
   "id": "13fd9b04-4116-4467-83c8-1bfac67099c4",
   "metadata": {},
   "outputs": [
    {
     "data": {
      "text/plain": [
       "['Apple', 'orange', 'banana']"
      ]
     },
     "execution_count": 13,
     "metadata": {},
     "output_type": "execute_result"
    }
   ],
   "source": [
    "lis.append(\"banana\")\n",
    "lis"
   ]
  },
  {
   "cell_type": "code",
   "execution_count": 14,
   "id": "c7cc4349-b4fa-451f-92a8-b857d07a5902",
   "metadata": {},
   "outputs": [
    {
     "data": {
      "text/plain": [
       "['Apple', 'mahesh', 'banana']"
      ]
     },
     "execution_count": 14,
     "metadata": {},
     "output_type": "execute_result"
    }
   ],
   "source": [
    "lis[1]= \"mahesh\"\n",
    "lis"
   ]
  },
  {
   "cell_type": "code",
   "execution_count": 19,
   "id": "f44d8c67-46ed-4048-841a-b3ad7bb734f6",
   "metadata": {},
   "outputs": [],
   "source": [
    "# delete \n",
    "book_list = [\"data str\", \"algorithum\", \"web\"]\n",
    "book_list.clear()"
   ]
  },
  {
   "cell_type": "code",
   "execution_count": 18,
   "id": "4bce459c-4fd8-4627-a047-dadb44295ace",
   "metadata": {},
   "outputs": [
    {
     "data": {
      "text/plain": [
       "[]"
      ]
     },
     "execution_count": 18,
     "metadata": {},
     "output_type": "execute_result"
    }
   ],
   "source": [
    "book_list"
   ]
  },
  {
   "cell_type": "markdown",
   "id": "03871fd2-90de-42a3-aad4-4eef0a8451f1",
   "metadata": {},
   "source": [
    "4. Compare and Contrast tuples and list with example "
   ]
  },
  {
   "cell_type": "raw",
   "id": "85d67f05-0120-4ee0-bc78-51610ef22379",
   "metadata": {},
   "source": [
    "Tuple comparison is the process of comparing two tuples to determine if they are equal or not. In Python, there are two types of tuple comparison operators: the equality operator (==) and the inequality operator (!=).\n",
    "\n",
    "The equality operator (==) checks whether two tuples have the same elements in the same order. If two tuples have the same elements in the same order, then they are considered equal and the equality operator returns True. If the two tuples have different elements or if their elements are in a different order, then they are considered unequal and the equality operator returns False."
   ]
  },
  {
   "cell_type": "code",
   "execution_count": 21,
   "id": "f09d0fa4-429f-4620-9ecc-c447eb9fc89a",
   "metadata": {},
   "outputs": [
    {
     "name": "stdout",
     "output_type": "stream",
     "text": [
      "The two tuples are equal\n"
     ]
    }
   ],
   "source": [
    "tuple1 = (1, 2, 3)\n",
    "tuple2 = (1, 2, 3)\n",
    "\n",
    "if tuple1 == tuple2:\n",
    "    print(\"The two tuples are equal\")\n",
    "else:\n",
    "    print(\"The two tuples are not equal\")"
   ]
  },
  {
   "cell_type": "code",
   "execution_count": 22,
   "id": "05c17b36-4009-467b-821f-2dc38bfe45af",
   "metadata": {},
   "outputs": [
    {
     "name": "stdout",
     "output_type": "stream",
     "text": [
      "The two tuples are not equal\n"
     ]
    }
   ],
   "source": [
    "# In this example, tuple1 and tuple2 have different elements, so when we compare them using the inequality operator, \n",
    "# we get True as output.\n",
    "tuple1 = (1, 2, 3)\n",
    "tuple2 = (4, 5)\n",
    "\n",
    "if tuple1 != tuple2:\n",
    "    print(\"The two tuples are not equal\")\n",
    "else:\n",
    "    print(\"The two tuples are equal\")"
   ]
  },
  {
   "cell_type": "raw",
   "id": "9de51381-9027-4267-9d53-c9ba4f85e842",
   "metadata": {},
   "source": [
    "#comparison of LIST AND TUPLE\n",
    "LIST \n",
    "Lists are mutable\n",
    "The implication of iterations is Time-consuming\n",
    "The list is better for performing operations, such as insertion and deletion.\n",
    "Lists consume more memory\n",
    "Lists have several built-in methods\n",
    "Unexpected changes and errors are more likely to occur"
   ]
  },
  {
   "cell_type": "code",
   "execution_count": 23,
   "id": "eb4d37c6-db9c-4536-a181-13da93600405",
   "metadata": {},
   "outputs": [
    {
     "name": "stdout",
     "output_type": "stream",
     "text": [
      "Original list  [1, 2, 4, 4, 3, 3, 3, 6, 5]\n",
      "Example to show mutability  [1, 2, 4, 77, 3, 3, 3, 6, 5]\n"
     ]
    }
   ],
   "source": [
    "#list for example\n",
    "# Creating a List with\n",
    "# the use of Numbers\n",
    "# code to test that tuples are mutable\n",
    "List = [1, 2, 4, 4, 3, 3, 3, 6, 5]\n",
    "print(\"Original list \", List)\n",
    "\n",
    "List[3] = 77\n",
    "print(\"Example to show mutability \", List)"
   ]
  },
  {
   "cell_type": "raw",
   "id": "28a11c19-c833-45e4-a2aa-1d3650e74809",
   "metadata": {},
   "source": [
    "TUPLE\n",
    "Tuples are immutable\n",
    "The implication of iterations is comparatively Faster\n",
    "A Tuple data type is appropriate for accessing the elements\n",
    "Tuple consumes less memory as compared to the list\n",
    "Tuple does not have many built-in methods.\n",
    "Because tuples don’t change they are far less error-prone."
   ]
  },
  {
   "cell_type": "code",
   "execution_count": 24,
   "id": "5d99b83f-c718-4d9a-80c2-084c7e51c4de",
   "metadata": {},
   "outputs": [
    {
     "ename": "TypeError",
     "evalue": "'tuple' object does not support item assignment",
     "output_type": "error",
     "traceback": [
      "\u001b[0;31m---------------------------------------------------------------------------\u001b[0m",
      "\u001b[0;31mTypeError\u001b[0m                                 Traceback (most recent call last)",
      "Cell \u001b[0;32mIn[24], line 4\u001b[0m\n\u001b[1;32m      1\u001b[0m \u001b[38;5;66;03m# code to test that tuples are immutable\u001b[39;00m\n\u001b[1;32m      3\u001b[0m tuple1 \u001b[38;5;241m=\u001b[39m (\u001b[38;5;241m0\u001b[39m, \u001b[38;5;241m1\u001b[39m, \u001b[38;5;241m2\u001b[39m, \u001b[38;5;241m3\u001b[39m)\n\u001b[0;32m----> 4\u001b[0m \u001b[43mtuple1\u001b[49m\u001b[43m[\u001b[49m\u001b[38;5;241;43m0\u001b[39;49m\u001b[43m]\u001b[49m \u001b[38;5;241m=\u001b[39m \u001b[38;5;241m4\u001b[39m\n\u001b[1;32m      5\u001b[0m \u001b[38;5;28mprint\u001b[39m(tuple1)\n",
      "\u001b[0;31mTypeError\u001b[0m: 'tuple' object does not support item assignment"
     ]
    }
   ],
   "source": [
    "# code to test that tuples are immutable\n",
    "\n",
    "tuple1 = (0, 1, 2, 3)\n",
    "tuple1[0] = 4\n",
    "print(tuple1)"
   ]
  },
  {
   "cell_type": "markdown",
   "id": "37afc2ce-25ba-49b4-9c4e-d8f04cf95da4",
   "metadata": {},
   "source": [
    "5. Describe the key features of sets and provide examples of their use?"
   ]
  },
  {
   "cell_type": "raw",
   "id": "41cce0b8-caac-415c-8143-e49f456eea70",
   "metadata": {},
   "source": [
    "Answer--\n",
    "Set-- A set is a collection of unique data, meaning that elements within a set cannot be duplicated.\n",
    "A Set in Python programming is an unordered collection data type that is iterable, mutable and has no duplicate elements. \n",
    "\n",
    "features of Set-\n",
    "- Sets are unordered.\n",
    "- Set elements are unique. Duplicate elements are not allowed.\n",
    "- A set itself may be modified, but the elements contained in the set must be of an immutable type."
   ]
  },
  {
   "cell_type": "code",
   "execution_count": 1,
   "id": "9ca90fa6-e129-4aa3-984c-d5430940b527",
   "metadata": {},
   "outputs": [
    {
     "data": {
      "text/plain": [
       "set"
      ]
     },
     "execution_count": 1,
     "metadata": {},
     "output_type": "execute_result"
    }
   ],
   "source": [
    "#for example\n",
    "s = {1}\n",
    "type(s)"
   ]
  },
  {
   "cell_type": "code",
   "execution_count": 2,
   "id": "a1cea105-23dd-47cc-af34-ce89345728c5",
   "metadata": {},
   "outputs": [
    {
     "data": {
      "text/plain": [
       "{1, 2, 3, 'apple', 'brijal'}"
      ]
     },
     "execution_count": 2,
     "metadata": {},
     "output_type": "execute_result"
    }
   ],
   "source": [
    "#use case \n",
    "list1 = [1, 2, 3, \"brijal\", \"brijal\", \"apple\", \"apple\"]\n",
    "s = set(list1)\n",
    "s"
   ]
  },
  {
   "cell_type": "code",
   "execution_count": 3,
   "id": "e6311e7a-ab28-4474-99c5-059b535752ec",
   "metadata": {},
   "outputs": [
    {
     "data": {
      "text/plain": [
       "{1, 2, 3, 4, 100}"
      ]
     },
     "execution_count": 3,
     "metadata": {},
     "output_type": "execute_result"
    }
   ],
   "source": [
    "s = {1, 1, 2, 2, 3, 4} \n",
    "#set is mutable\n",
    "s.add(100) #not compalasary that it will add t the last of set\n",
    "s"
   ]
  },
  {
   "cell_type": "code",
   "execution_count": 4,
   "id": "a2989561-5513-46f2-9654-0cabe65f233e",
   "metadata": {},
   "outputs": [
    {
     "data": {
      "text/plain": [
       "{1, 2, 4, 100}"
      ]
     },
     "execution_count": 4,
     "metadata": {},
     "output_type": "execute_result"
    }
   ],
   "source": [
    "s = {1, 1, 2, 2, 3, 4, 100}\n",
    "s.remove(3) #removes a specific element\n",
    "s"
   ]
  },
  {
   "cell_type": "code",
   "execution_count": 5,
   "id": "fa550e02-0f40-4882-9632-ea1504f3a514",
   "metadata": {},
   "outputs": [
    {
     "data": {
      "text/plain": [
       "{'coding', 'hiking', 'photo', 'reading', 'traveling'}"
      ]
     },
     "execution_count": 5,
     "metadata": {},
     "output_type": "execute_result"
    }
   ],
   "source": [
    "#set operations\n",
    "#union -- combines elements from two sets excluding duplicates \n",
    "#for example\n",
    "s1 = {\"hiking\", \"reading\", \"coding\"}\n",
    "s2 = {\"coding\", \"photo\", \"traveling\"}\n",
    "#union -combine all the elements\n",
    "s1 | s2"
   ]
  },
  {
   "cell_type": "code",
   "execution_count": 6,
   "id": "00c5686f-9586-4ce5-bd4d-6e524b97471f",
   "metadata": {},
   "outputs": [
    {
     "data": {
      "text/plain": [
       "{'coding'}"
      ]
     },
     "execution_count": 6,
     "metadata": {},
     "output_type": "execute_result"
    }
   ],
   "source": [
    "#intersection-- only common elements between sets\n",
    "#for example\n",
    "s1 = {\"hiking\", \"reading\", \"coding\"}\n",
    "s2 = {\"coding\", \"photo\", \"traveling\"}\n",
    "s1 & s2"
   ]
  },
  {
   "cell_type": "code",
   "execution_count": 7,
   "id": "5f0487a5-163f-4313-a4ff-c8afdc0f1eed",
   "metadata": {},
   "outputs": [
    {
     "data": {
      "text/plain": [
       "{'hiking', 'reading'}"
      ]
     },
     "execution_count": 7,
     "metadata": {},
     "output_type": "execute_result"
    }
   ],
   "source": [
    "#difference -- return the elements tat is present in first set and not in second\n",
    "s1-s2"
   ]
  },
  {
   "cell_type": "code",
   "execution_count": 8,
   "id": "4bdb6ab5-1cd5-44df-9523-5f7c15f4db35",
   "metadata": {},
   "outputs": [
    {
     "data": {
      "text/plain": [
       "{'hiking', 'photo', 'reading', 'traveling'}"
      ]
     },
     "execution_count": 8,
     "metadata": {},
     "output_type": "execute_result"
    }
   ],
   "source": [
    "#symmetric difference --returns elements that are present in either of sets but not in both \n",
    "s1 ^ s2"
   ]
  },
  {
   "cell_type": "code",
   "execution_count": 9,
   "id": "96a445ee-2bbc-4466-81fb-007b1a9d7a52",
   "metadata": {},
   "outputs": [
    {
     "data": {
      "text/plain": [
       "frozenset({1, 2, 3, 4, 5})"
      ]
     },
     "execution_count": 9,
     "metadata": {},
     "output_type": "execute_result"
    }
   ],
   "source": [
    "#frozen sets -- immutable version of set, cannot be added or removed any new element\n",
    "my_fs = frozenset([1, 2, 2, 2, 3, 3, 4, 5])\n",
    "my_fs"
   ]
  },
  {
   "cell_type": "markdown",
   "id": "a05724e5-7f8b-4294-8c13-1e83a6c42fe1",
   "metadata": {},
   "source": [
    "6. Discuss the use cases of tuples and sets in python programming? "
   ]
  },
  {
   "cell_type": "raw",
   "id": "b44e12b1-a27c-49ba-9bf1-905f7f79737f",
   "metadata": {},
   "source": [
    "Tuples-- \n",
    "Tuples are immutable. Hence, they are primarily used to store data that doesn't change frequently. \n",
    "Any operation can store data in a tuple when you don't want it to change. \n",
    "Tuples are great to use if you want the data in your collection to be read-only, never to change, and always remain the same and constant."
   ]
  },
  {
   "cell_type": "raw",
   "id": "1f2311c6-2fc0-4fa0-912c-3c13715596df",
   "metadata": {},
   "source": [
    "Use Cases of Tuples:\n",
    "--Storing Fixed Data: Tuples are often used to store a collection of related items that should not be changed, such as coordinates, dates, \n",
    "or configuration settings."
   ]
  },
  {
   "cell_type": "code",
   "execution_count": 12,
   "id": "505d0dbb-3cf8-473c-a078-a3ce5b48255a",
   "metadata": {},
   "outputs": [
    {
     "name": "stdout",
     "output_type": "stream",
     "text": [
      "X: 4, Y: 5\n"
     ]
    }
   ],
   "source": [
    "#for example\n",
    "# Coordinates of a point\n",
    "point = (4, 5)\n",
    "\n",
    "# Accessing elements\n",
    "x = point[0]\n",
    "y = point[1]\n",
    "\n",
    "print(f\"X: {x}, Y: {y}\")\n"
   ]
  },
  {
   "cell_type": "raw",
   "id": "601b9052-387a-4f07-b817-4148a41a5ccd",
   "metadata": {},
   "source": [
    "-Returning Multiple Values from a Function: A function can return multiple values as a tuple, allowing for easy unpacking."
   ]
  },
  {
   "cell_type": "code",
   "execution_count": 13,
   "id": "949e0db2-33e7-4893-8c54-62c62304241b",
   "metadata": {},
   "outputs": [
    {
     "name": "stdout",
     "output_type": "stream",
     "text": [
      "Name: Alice, Age: 30, Country: USA\n"
     ]
    }
   ],
   "source": [
    "#for example\n",
    "def get_user_info():\n",
    "    name = \"Alice\"\n",
    "    age = 30\n",
    "    country = \"USA\"\n",
    "    return name, age, country  # Returning a tuple\n",
    "\n",
    "# Unpacking the tuple\n",
    "name, age, country = get_user_info()\n",
    "\n",
    "print(f\"Name: {name}, Age: {age}, Country: {country}\")\n"
   ]
  },
  {
   "cell_type": "raw",
   "id": "9fcc762b-8b65-4240-835b-faffeefe38c2",
   "metadata": {},
   "source": [
    "-Using Tuples as Keys in a Dictionary: Since tuples are immutable, they can be used as keys in dictionaries (whereas lists cannot)."
   ]
  },
  {
   "cell_type": "code",
   "execution_count": 14,
   "id": "c93b82b3-7632-4b57-b3c5-d0bccc58dbaf",
   "metadata": {},
   "outputs": [
    {
     "name": "stdout",
     "output_type": "stream",
     "text": [
      "The city is: New York\n"
     ]
    }
   ],
   "source": [
    "#for example\n",
    "# A dictionary with tuple keys\n",
    "locations = {\n",
    "    (40.7128, -74.0060): \"New York\",\n",
    "    (34.0522, -118.2437): \"Los Angeles\",\n",
    "    (51.5074, -0.1278): \"London\"\n",
    "}\n",
    "\n",
    "# Accessing data using a tuple key\n",
    "city = locations[(40.7128, -74.0060)]\n",
    "print(f\"The city is: {city}\")\n"
   ]
  },
  {
   "cell_type": "raw",
   "id": "6fea2da3-290b-4ed0-a013-867270f5560b",
   "metadata": {},
   "source": [
    "Data Integrity: When you want to ensure that certain data is protected from being accidentally altered, storing it in a tuple can help \n",
    "maintain data integrity."
   ]
  },
  {
   "cell_type": "code",
   "execution_count": 16,
   "id": "4036edb1-fbb8-4328-8268-0058e9a91677",
   "metadata": {},
   "outputs": [
    {
     "data": {
      "text/plain": [
       "('user123', 'localhost', 8080)"
      ]
     },
     "execution_count": 16,
     "metadata": {},
     "output_type": "execute_result"
    }
   ],
   "source": [
    "#for example\n",
    "# Immutable configuration settings\n",
    "config = (\"user123\", \"localhost\", 8080)\n",
    "config"
   ]
  },
  {
   "cell_type": "raw",
   "id": "5de18415-bc4d-405e-ba16-9862d8a5afe7",
   "metadata": {},
   "source": [
    "SET -- \n",
    "A set in Python is an unordered collection of unique elements. Sets are mutable, meaning you can add or remove elements, \n",
    "but they cannot contain duplicate items. They are useful in scenarios where you need to ensure that all elements in a collection are unique, \n",
    "or when you need to perform operations like union, intersection, and difference between collections."
   ]
  },
  {
   "cell_type": "raw",
   "id": "0f1ee18b-9988-4a96-9306-e50262c65ec0",
   "metadata": {},
   "source": [
    "Use Cases of Sets:\n",
    "-- Eliminating Duplicates: Sets are ideal for removing duplicate elements from a list or any other iterable."
   ]
  },
  {
   "cell_type": "code",
   "execution_count": 17,
   "id": "2f410fd4-9491-4bbe-8301-ad36a99746b1",
   "metadata": {},
   "outputs": [
    {
     "name": "stdout",
     "output_type": "stream",
     "text": [
      "Unique numbers: {1, 2, 3, 4, 5, 6, 7, 8}\n"
     ]
    }
   ],
   "source": [
    "#for example\n",
    "# A list with duplicate elements\n",
    "numbers = [1, 2, 3, 4, 4, 5, 6, 7, 7, 8]\n",
    "\n",
    "# Converting the list to a set to remove duplicates\n",
    "unique_numbers = set(numbers)\n",
    "\n",
    "print(f\"Unique numbers: {unique_numbers}\")"
   ]
  },
  {
   "cell_type": "raw",
   "id": "1c015986-3af6-46f2-ad01-d44e4d969e88",
   "metadata": {},
   "source": [
    "--Membership Testing: Sets provide an efficient way to test if an element exists within a collection, with average time complexity of O(1)."
   ]
  },
  {
   "cell_type": "code",
   "execution_count": 18,
   "id": "c6478cba-5d35-41b4-8e3e-904a78a19aa6",
   "metadata": {},
   "outputs": [
    {
     "name": "stdout",
     "output_type": "stream",
     "text": [
      "Alice is in the set.\n"
     ]
    }
   ],
   "source": [
    "#for example\n",
    "# A set of users\n",
    "users = {\"Alice\", \"Bob\", \"Charlie\"}\n",
    "\n",
    "# Checking if a user exists in the set\n",
    "if \"Alice\" in users:\n",
    "    print(\"Alice is in the set.\")\n",
    "else:\n",
    "    print(\"Alice is not in the set.\")"
   ]
  },
  {
   "cell_type": "raw",
   "id": "c3e76759-6030-4d54-9ac3-4140ecdd4c53",
   "metadata": {},
   "source": [
    "-- Set Operations: Sets support mathematical operations like union, intersection, difference, \n",
    "and symmetric difference, which can be very useful in certain algorithms."
   ]
  },
  {
   "cell_type": "code",
   "execution_count": 19,
   "id": "af985579-032d-4f93-9620-13ee422ecb44",
   "metadata": {},
   "outputs": [
    {
     "name": "stdout",
     "output_type": "stream",
     "text": [
      "Union: {'e', 'd', 'c', 'b', 'f', 'a'}\n",
      "Intersection: {'d', 'c'}\n",
      "Difference: {'a', 'b'}\n",
      "Symmetric Difference: {'e', 'b', 'f', 'a'}\n"
     ]
    }
   ],
   "source": [
    "#for example\n",
    "# Two sets of letters\n",
    "set_a = {\"a\", \"b\", \"c\", \"d\"}\n",
    "set_b = {\"c\", \"d\", \"e\", \"f\"}\n",
    "\n",
    "# Union (elements in either set)\n",
    "union = set_a | set_b\n",
    "print(f\"Union: {union}\")\n",
    "\n",
    "# Intersection (elements in both sets)\n",
    "intersection = set_a & set_b\n",
    "print(f\"Intersection: {intersection}\")\n",
    "\n",
    "# Difference (elements in set_a but not in set_b)\n",
    "difference = set_a - set_b\n",
    "print(f\"Difference: {difference}\")\n",
    "\n",
    "# Symmetric Difference (elements in either set, but not both)\n",
    "symmetric_difference = set_a ^ set_b\n",
    "print(f\"Symmetric Difference: {symmetric_difference}\")"
   ]
  },
  {
   "cell_type": "raw",
   "id": "e7f9f2b3-2bc2-46d1-a92f-d03ffa2e0bc7",
   "metadata": {},
   "source": [
    "--Maintaining a Collection of Unique Items: When you need to store a collection of unique items without any specific order, a set is a natural choice."
   ]
  },
  {
   "cell_type": "code",
   "execution_count": 20,
   "id": "1e3408af-c6b0-42bd-99e5-8b2e7f7cfc84",
   "metadata": {},
   "outputs": [
    {
     "name": "stdout",
     "output_type": "stream",
     "text": [
      "Unique emails: {'user2@example.com', 'user1@example.com'}\n"
     ]
    }
   ],
   "source": [
    "#for example\n",
    "# A set to store unique email addresses\n",
    "emails = set()\n",
    "\n",
    "# Adding emails to the set\n",
    "emails.add(\"user1@example.com\")\n",
    "emails.add(\"user2@example.com\")\n",
    "emails.add(\"user1@example.com\")  # This will not be added again\n",
    "\n",
    "print(f\"Unique emails: {emails}\")"
   ]
  },
  {
   "cell_type": "markdown",
   "id": "87e91fb1-c56a-4edf-bf98-63720425a336",
   "metadata": {},
   "source": [
    "7. Describe how to add, modify, and delete items in a dictionary with examples"
   ]
  },
  {
   "cell_type": "raw",
   "id": "03caf210-fb2e-404b-92fd-e27ec33d6f16",
   "metadata": {},
   "source": [
    "ANSWER--\n",
    "Disctonary-- disctonary is a data stcture that stores data as key value pai\n",
    "keys are unique and imutable"
   ]
  },
  {
   "cell_type": "raw",
   "id": "a168d5b0-4f98-4ea6-b8bb-37545a6a7dc8",
   "metadata": {},
   "source": [
    "1.Adding Items to a Dictionary\n",
    "You can add a new key-value pair to a dictionary by simply assigning a value to a new key."
   ]
  },
  {
   "cell_type": "code",
   "execution_count": 40,
   "id": "8a1556e6-4808-4396-b901-fba1fa751627",
   "metadata": {},
   "outputs": [
    {
     "name": "stdout",
     "output_type": "stream",
     "text": [
      "{'name': 'Akshay', 'age': 30}\n"
     ]
    }
   ],
   "source": [
    "#for example\n",
    "# Creating an empty dictionary\n",
    "my_dict = {}\n",
    "\n",
    "# Adding a key-value pair\n",
    "my_dict[\"name\"] = \"Akshay\"\n",
    "my_dict[\"age\"] = 30\n",
    "\n",
    "print(my_dict)  \n"
   ]
  },
  {
   "cell_type": "raw",
   "id": "9b9302b8-a767-4589-a64a-2f8b04365f00",
   "metadata": {},
   "source": [
    "2. Modifying Items in a Dictionary\n",
    "You can modify the value associated with an existing key by reassigning it."
   ]
  },
  {
   "cell_type": "code",
   "execution_count": 31,
   "id": "1253077a-e6ed-4dc2-aa92-f72ca54af473",
   "metadata": {},
   "outputs": [
    {
     "name": "stdout",
     "output_type": "stream",
     "text": [
      "{'name': 'Alice', 'age': 31, 'city': 'Los Angeles', 'profession': 'Engineer'}\n"
     ]
    }
   ],
   "source": [
    "#for example\n",
    "my_dict[\"name\"] = \"Alice\"\n",
    "my_dict[\"age\"] = 31\n",
    "my_dict[\"city\"] = \"Los Angeles\"\n",
    "my_dict[\"profession\"] = \"Engineer\"\n",
    "print(my_dict)"
   ]
  },
  {
   "cell_type": "code",
   "execution_count": 33,
   "id": "e146b44f-a7e1-40b5-984d-5fb55d391758",
   "metadata": {},
   "outputs": [
    {
     "name": "stdout",
     "output_type": "stream",
     "text": [
      "{'name': 'pwskills', 'age': 31, 'city': 'Los Angeles', 'profession': 'Engineer'}\n"
     ]
    }
   ],
   "source": [
    "my_dict['name'] = \"pwskills\"\n",
    "print(my_dict)"
   ]
  },
  {
   "cell_type": "raw",
   "id": "ac82e3ef-f791-486d-be11-3b5bebf3d475",
   "metadata": {},
   "source": [
    "Deleting Items from a Dictionary"
   ]
  },
  {
   "cell_type": "code",
   "execution_count": 34,
   "id": "584082cc-7e31-4d13-a436-a0b72178328c",
   "metadata": {},
   "outputs": [
    {
     "name": "stdout",
     "output_type": "stream",
     "text": [
      "{'name': 'pwskills', 'age': 31, 'profession': 'Engineer'}\n"
     ]
    }
   ],
   "source": [
    "#for example\n",
    "# Deleting a key-value pair\n",
    "del my_dict[\"city\"]\n",
    "\n",
    "print(my_dict)  \n"
   ]
  },
  {
   "cell_type": "code",
   "execution_count": 35,
   "id": "8e430935-50cd-40c5-9645-9f42bf2edae5",
   "metadata": {},
   "outputs": [
    {
     "name": "stdout",
     "output_type": "stream",
     "text": [
      "31\n",
      "{'name': 'pwskills', 'profession': 'Engineer'}\n"
     ]
    }
   ],
   "source": [
    "# Deleting a key-value pair and getting its value #### another way ####\n",
    "age = my_dict.pop(\"age\")\n",
    "print(age)  \n",
    "print(my_dict) "
   ]
  },
  {
   "cell_type": "markdown",
   "id": "3bc709b1-44d6-4058-929a-73cf9bd9357b",
   "metadata": {},
   "source": [
    "8. Discuss the importance of dictionary keys being immutable and provide eamples "
   ]
  },
  {
   "cell_type": "raw",
   "id": "6da69e59-c2e8-4d1a-b2fb-02a8ff58870e",
   "metadata": {},
   "source": [
    "Importance of Immutable Dictionary Keys\n",
    "In Python, dictionary keys must be immutable. This means they cannot be changed after they are created. \n",
    "While this might seem restrictive, it's essential for the efficient operation of dictionaries.\n",
    "\n",
    "Why Immutable Keys?\n",
    "Hashing Efficiency: Dictionaries use hashing to store and retrieve values efficiently. \n",
    "                    Hashing involves converting a key into a numerical value (hash value) to determine its location within the dictionary. \n",
    "                    Immutable keys guarantee that their hash value remains constant, ensuring consistent and efficient lookups.\n",
    "Data Integrity: If keys were mutable, changing a key's value could inadvertently alter its hash value. \n",
    "                This could lead to the key being stored in a different location, making it impossible to retrieve. \n",
    "                Immutable keys prevent this kind of data corruption.\n",
    "Consistency: Immutable keys ensure that the dictionary's structure remains consistent. \n",
    "             This is crucial for algorithms and operations that rely on the predictable behavior of dictionaries."
   ]
  },
  {
   "cell_type": "code",
   "execution_count": 37,
   "id": "18a7ac56-3260-48cf-bfa0-2a20e506074d",
   "metadata": {},
   "outputs": [
    {
     "data": {
      "text/plain": [
       "dict"
      ]
     },
     "execution_count": 37,
     "metadata": {},
     "output_type": "execute_result"
    }
   ],
   "source": [
    "restaurant_menu = {\n",
    "    'dish1': {'name': 'pashta', 'price': 450, 'description': \"good\"},\n",
    "    'dish2': {'name': 'chiken n', 'price': 550, 'description': \"unhealthy\"},\n",
    "    'dish3': {'name': 'pizza ', 'price': 950, 'description': \"bad\"}\n",
    "}\n",
    "type(restaurant_menu)"
   ]
  },
  {
   "cell_type": "code",
   "execution_count": 38,
   "id": "024664a0-c6c1-4b4f-a088-f6a1a00d4e37",
   "metadata": {},
   "outputs": [
    {
     "data": {
      "text/plain": [
       "{'name': 'pashta', 'price': 450, 'description': 'good'}"
      ]
     },
     "execution_count": 38,
     "metadata": {},
     "output_type": "execute_result"
    }
   ],
   "source": [
    "restaurant_menu[\"dish1\"]"
   ]
  },
  {
   "cell_type": "code",
   "execution_count": 39,
   "id": "d2295223-fb29-4e71-99a7-874d41fa6663",
   "metadata": {},
   "outputs": [
    {
     "name": "stdout",
     "output_type": "stream",
     "text": [
      "Alice\n",
      "Bob\n",
      "Charlie\n",
      "David\n"
     ]
    }
   ],
   "source": [
    "# Example of immutable keys in a Python dictionary\n",
    "\n",
    "my_dict = {\n",
    "    \"name\": \"Alice\",\n",
    "    123: \"Bob\",\n",
    "    (1, 2): \"Charlie\",\n",
    "    True: \"David\"\n",
    "}\n",
    "\n",
    "# Accessing values using immutable keys\n",
    "print(my_dict[\"name\"])  \n",
    "print(my_dict[123])  \n",
    "print(my_dict[(1, 2)])  \n",
    "print(my_dict[True])  "
   ]
  },
  {
   "cell_type": "code",
   "execution_count": null,
   "id": "377d9da7-e129-4870-9e81-f46b9b955ba8",
   "metadata": {},
   "outputs": [],
   "source": []
  }
 ],
 "metadata": {
  "kernelspec": {
   "display_name": "Python 3 (ipykernel)",
   "language": "python",
   "name": "python3"
  },
  "language_info": {
   "codemirror_mode": {
    "name": "ipython",
    "version": 3
   },
   "file_extension": ".py",
   "mimetype": "text/x-python",
   "name": "python",
   "nbconvert_exporter": "python",
   "pygments_lexer": "ipython3",
   "version": "3.10.8"
  }
 },
 "nbformat": 4,
 "nbformat_minor": 5
}
